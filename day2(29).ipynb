{
 "cells": [
  {
   "cell_type": "markdown",
   "metadata": {},
   "source": [
    "**python program to add two numbers**"
   ]
  },
  {
   "cell_type": "code",
   "execution_count": 2,
   "metadata": {},
   "outputs": [
    {
     "name": "stdout",
     "output_type": "stream",
     "text": [
      "The Sum of the given two numbers is: 17\n"
     ]
    }
   ],
   "source": [
    "x=eval(input(\"enter a number:\"))\n",
    "y=eval(input(\"enter a number:\"))\n",
    "print(\"The Sum of the given two numbers is:\",x+y)\n",
    "\n"
   ]
  },
  {
   "cell_type": "code",
   "execution_count": 10,
   "metadata": {},
   "outputs": [
    {
     "name": "stdout",
     "output_type": "stream",
     "text": [
      "The first number is: 9\n",
      "The Second number is: 7\n",
      "The sum of the two numbers is: 16\n"
     ]
    }
   ],
   "source": [
    "class MathSum:\n",
    "    def __init__(self,a,b):\n",
    "        self.input1=a\n",
    "        self.input2=b\n",
    "    def add(self):\n",
    "        return(self.input1+self.input2)\n",
    "a=eval(input(\"enter a number:\"))\n",
    "b=eval(input(\"enter a number:\"))\n",
    "object1=MathSum(a,b)\n",
    "Sum=object1.add()\n",
    "print(\"The first number is:\",a)\n",
    "print(\"The Second number is:\",b)\n",
    "print(\"The sum of the two numbers is:\",Sum)\n"
   ]
  },
  {
   "cell_type": "markdown",
   "metadata": {},
   "source": []
  },
  {
   "cell_type": "markdown",
   "metadata": {},
   "source": [
    "**Python Program for Maximum of Two Numbers**\n"
   ]
  },
  {
   "cell_type": "code",
   "execution_count": 9,
   "metadata": {},
   "outputs": [
    {
     "name": "stdout",
     "output_type": "stream",
     "text": [
      "The first number is: 8\n",
      "The second number is: 9\n",
      "The Maximum value in the given numbers is: 9\n"
     ]
    }
   ],
   "source": [
    "x=eval(input(\"enter a number:\"))\n",
    "y=eval(input(\"enter a number:\"))\n",
    "max_value=max(x,y)\n",
    "print(\"The first number is:\",x)\n",
    "print(\"The second number is:\",y)\n",
    "print(\"The Maximum value in the given numbers is:\",max_value)"
   ]
  },
  {
   "cell_type": "code",
   "execution_count": 11,
   "metadata": {},
   "outputs": [
    {
     "name": "stdout",
     "output_type": "stream",
     "text": [
      "The first number is: 8\n",
      "The second number is: 10\n",
      "The maximum of the two values is: 10\n"
     ]
    }
   ],
   "source": [
    "class MaxValue:\n",
    "    def __init__(self,a,b):\n",
    "        self.input1=a\n",
    "        self.input2=b\n",
    "    def maximum_value(self):\n",
    "        return(max(self.input1,self.input2))\n",
    "a=eval(input(\"enter a number:\"))\n",
    "b=eval(input(\"enter a number:\"))\n",
    "object1=MaxValue(a,b)\n",
    "result=object1.maximum_value()\n",
    "print(\"The first number is:\",a)\n",
    "print(\"The second number is:\",b)\n",
    "print(\"The maximum of the two values is:\",result)"
   ]
  },
  {
   "cell_type": "markdown",
   "metadata": {},
   "source": [
    "**Python Program for the factorial of a number**\n"
   ]
  },
  {
   "cell_type": "code",
   "execution_count": 18,
   "metadata": {},
   "outputs": [
    {
     "name": "stdout",
     "output_type": "stream",
     "text": [
      "The Given number is: 4\n",
      "The Factorial of the given number is: 24\n"
     ]
    }
   ],
   "source": [
    "class Factorial:\n",
    "    def __init__(self,n):\n",
    "        self.n=n\n",
    "    def factorial(self):\n",
    "        factorial=1\n",
    "        for i in range(1,self.n+1):\n",
    "           \n",
    "            factorial*=i\n",
    "        return factorial\n",
    "n=eval(input(\"enter a number:\"))\n",
    "object1=Factorial(n)\n",
    "result=object1.factorial()\n",
    "print(\"The Given number is:\",n)\n",
    "print(\"The Factorial of the given number is:\",result)    "
   ]
  },
  {
   "cell_type": "code",
   "execution_count": 3,
   "metadata": {},
   "outputs": [
    {
     "name": "stdout",
     "output_type": "stream",
     "text": [
      "The principal amount is: 50000\n",
      "The rate of interest is: 6\n",
      "The time period is: 5\n",
      "The simple interest is for the given values: 7500000.0\n"
     ]
    }
   ],
   "source": [
    "class SimpleInterest:\n",
    "    def __init__(self,p,r,t):\n",
    "        self.principal_amount=p\n",
    "        self.rateOfInterest=r\n",
    "        self.timePeriod=t\n",
    "        \n",
    "    def S_I(self):\n",
    "        return((self.principal_amount*((self.rateOfInterest/100)*self.principal_amount)*self.timePeriod)/100)\n",
    "        # return((self.principal_amount*self.rateOfInterest*self.timePeriod)/100)\n",
    "p=eval(input(\"enter the principal amount:\"))\n",
    "r=eval(input(\"enter the rate of interest:\"))\n",
    "t=eval(input(\"enter the time period:\"))\n",
    "values=SimpleInterest(p,r,t)\n",
    "res=values.S_I()\n",
    "print(\"The principal amount is:\",p)\n",
    "print(\"The rate of interest is:\",r)\n",
    "print(\"The time period is:\",t)\n",
    "print(\"The simple interest is for the given values:\",res)"
   ]
  },
  {
   "cell_type": "code",
   "execution_count": 4,
   "metadata": {},
   "outputs": [
    {
     "name": "stdout",
     "output_type": "stream",
     "text": [
      "The principal amount is: 5000\n",
      "The rate of interest is: 5\n",
      "The time period is: 4\n",
      "The compound interest for the given values is: 195312.5\n"
     ]
    }
   ],
   "source": [
    "class CompoundInterest:\n",
    "    def __init__(self,p,r,t):\n",
    "        self.principal_amount=p\n",
    "        self.rateOfInterest=r\n",
    "        self.timePeriod=t\n",
    "        \n",
    "    def C_I(self):\n",
    "        return((self.principal_amount*(1+(((self.rateOfInterest/100)*self.principal_amount)/100)**t)-self.principal_amount))\n",
    "        # return((self.principal_amount*self.rateOfInterest*self.timePeriod)/100)\n",
    "p=eval(input(\"enter the principal amount:\"))\n",
    "r=eval(input(\"enter the rate of interest:\"))\n",
    "t=eval(input(\"enter the time period:\"))\n",
    "values=CompoundInterest(p,r,t)\n",
    "res=values.C_I()\n",
    "print(\"The principal amount is:\",p)\n",
    "print(\"The rate of interest is:\",r)\n",
    "print(\"The time period is:\",t)\n",
    "print(\"The compound interest for the given values is:\",res)"
   ]
  },
  {
   "cell_type": "code",
   "execution_count": 5,
   "metadata": {},
   "outputs": [
    {
     "name": "stdout",
     "output_type": "stream",
     "text": [
      "Not Armstrong\n"
     ]
    }
   ],
   "source": [
    "#Program for armstrong number\n",
    "no=int(input(\"Enter number: \"))\n",
    "arm=0\n",
    "num=no\n",
    "print(\"The entered number is:\")\n",
    "while num!=0:\n",
    "    i=num%10\n",
    "    arm+=i**3\n",
    "    num=num//10\n",
    "if no==arm:\n",
    "    print(\"Armstrong number\")\n",
    "else:\n",
    "    print(\"Not Armstrong\")"
   ]
  },
  {
   "cell_type": "code",
   "execution_count": 6,
   "metadata": {},
   "outputs": [
    {
     "name": "stdout",
     "output_type": "stream",
     "text": [
      "Area of circle: 153.93804002589985\n"
     ]
    }
   ],
   "source": [
    "#Program to find area of circle\n",
    "import math\n",
    "r=float(input(\"Enter radius of circle: \"))\n",
    "p=math.pi\n",
    "area=p*(r**2)\n",
    "print(\"Area of circle:\",area)"
   ]
  },
  {
   "cell_type": "code",
   "execution_count": 8,
   "metadata": {},
   "outputs": [
    {
     "name": "stdout",
     "output_type": "stream",
     "text": [
      "5 7 "
     ]
    }
   ],
   "source": [
    "#Program to print prime numbers in an interval\n",
    "def isprime(x):\n",
    "    flag=0\n",
    "    if x==1 or x==2:\n",
    "        flag=1\n",
    "    else:\n",
    "        for i in range(2, x):\n",
    "            if x%i==0:\n",
    "                flag=0\n",
    "                break\n",
    "            else:\n",
    "                flag=1\n",
    "    return flag\n",
    "start=int(input(\"Enter starting number: \"))\n",
    "ending=int(input(\"Enter end number: \"))\n",
    "for i in range(start,ending+1):\n",
    "    if isprime(i)==1:\n",
    "        print(i,end=\" \")     "
   ]
  },
  {
   "cell_type": "code",
   "execution_count": 9,
   "metadata": {},
   "outputs": [
    {
     "name": "stdout",
     "output_type": "stream",
     "text": [
      "Prime number\n"
     ]
    }
   ],
   "source": [
    "#Python program to check whether a number is Prime or not\n",
    "def isprime(x):\n",
    "    flag=0\n",
    "    if x==1 or x==2:\n",
    "        flag=1\n",
    "    else:\n",
    "        for i in range(2, x):\n",
    "            if x%i==0:\n",
    "                flag=0\n",
    "                break\n",
    "            else:\n",
    "                flag=1\n",
    "    return flag\n",
    "no=int(input(\"Enter number:\"))\n",
    "if isprime(no)==1:\n",
    "    print(\"Prime number\")\n",
    "else:\n",
    "    print(\"Composite number\")"
   ]
  },
  {
   "cell_type": "code",
   "execution_count": 10,
   "metadata": {},
   "outputs": [
    {
     "name": "stdout",
     "output_type": "stream",
     "text": [
      "Nth Fibonacci number: 5\n"
     ]
    }
   ],
   "source": [
    "#Python Program for n-th Fibonacci number\n",
    "n=int(input(\"Enter limit:\"))\n",
    "a=0\n",
    "b=1\n",
    "fib=0\n",
    "for i in range (3,n+1):\n",
    "    fib=a+b\n",
    "    a=b\n",
    "    b=fib\n",
    "print(\"Nth Fibonacci number:\",fib)"
   ]
  },
  {
   "cell_type": "code",
   "execution_count": null,
   "metadata": {},
   "outputs": [],
   "source": []
  }
 ],
 "metadata": {
  "kernelspec": {
   "display_name": "Python 3",
   "language": "python",
   "name": "python3"
  },
  "language_info": {
   "codemirror_mode": {
    "name": "ipython",
    "version": 3
   },
   "file_extension": ".py",
   "mimetype": "text/x-python",
   "name": "python",
   "nbconvert_exporter": "python",
   "pygments_lexer": "ipython3",
   "version": "3.10.7"
  }
 },
 "nbformat": 4,
 "nbformat_minor": 2
}
