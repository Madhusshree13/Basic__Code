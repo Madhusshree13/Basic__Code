{
 "cells": [
  {
   "cell_type": "markdown",
   "metadata": {},
   "source": [
    "**python program to add two numbers**"
   ]
  },
  {
   "cell_type": "code",
   "execution_count": 2,
   "metadata": {},
   "outputs": [
    {
     "name": "stdout",
     "output_type": "stream",
     "text": [
      "The Sum of the given two numbers is: 17\n"
     ]
    }
   ],
   "source": [
    "x=eval(input(\"enter a number:\"))\n",
    "y=eval(input(\"enter a number:\"))\n",
    "print(\"The Sum of the given two numbers is:\",x+y)\n",
    "\n"
   ]
  },
  {
   "cell_type": "code",
   "execution_count": 10,
   "metadata": {},
   "outputs": [
    {
     "name": "stdout",
     "output_type": "stream",
     "text": [
      "The first number is: 9\n",
      "The Second number is: 7\n",
      "The sum of the two numbers is: 16\n"
     ]
    }
   ],
   "source": [
    "class MathSum:\n",
    "    def __init__(self,a,b):\n",
    "        self.input1=a\n",
    "        self.input2=b\n",
    "    def add(self):\n",
    "        return(self.input1+self.input2)\n",
    "a=eval(input(\"enter a number:\"))\n",
    "b=eval(input(\"enter a number:\"))\n",
    "object1=MathSum(a,b)\n",
    "Sum=object1.add()\n",
    "print(\"The first number is:\",a)\n",
    "print(\"The Second number is:\",b)\n",
    "print(\"The sum of the two numbers is:\",Sum)\n"
   ]
  },
  {
   "cell_type": "markdown",
   "metadata": {},
   "source": []
  },
  {
   "cell_type": "markdown",
   "metadata": {},
   "source": [
    "**Python Program for Maximum of Two Numbers**\n"
   ]
  },
  {
   "cell_type": "code",
   "execution_count": 9,
   "metadata": {},
   "outputs": [
    {
     "name": "stdout",
     "output_type": "stream",
     "text": [
      "The first number is: 8\n",
      "The second number is: 9\n",
      "The Maximum value in the given numbers is: 9\n"
     ]
    }
   ],
   "source": [
    "x=eval(input(\"enter a number:\"))\n",
    "y=eval(input(\"enter a number:\"))\n",
    "max_value=max(x,y)\n",
    "print(\"The first number is:\",x)\n",
    "print(\"The second number is:\",y)\n",
    "print(\"The Maximum value in the given numbers is:\",max_value)"
   ]
  },
  {
   "cell_type": "code",
   "execution_count": 11,
   "metadata": {},
   "outputs": [
    {
     "name": "stdout",
     "output_type": "stream",
     "text": [
      "The first number is: 8\n",
      "The second number is: 10\n",
      "The maximum of the two values is: 10\n"
     ]
    }
   ],
   "source": [
    "class MaxValue:\n",
    "    def __init__(self,a,b):\n",
    "        self.input1=a\n",
    "        self.input2=b\n",
    "    def maximum_value(self):\n",
    "        return(max(self.input1,self.input2))\n",
    "a=eval(input(\"enter a number:\"))\n",
    "b=eval(input(\"enter a number:\"))\n",
    "object1=MaxValue(a,b)\n",
    "result=object1.maximum_value()\n",
    "print(\"The first number is:\",a)\n",
    "print(\"The second number is:\",b)\n",
    "print(\"The maximum of the two values is:\",result)"
   ]
  },
  {
   "cell_type": "markdown",
   "metadata": {},
   "source": [
    "**Python Program for the factorial of a number**\n"
   ]
  },
  {
   "cell_type": "code",
   "execution_count": 18,
   "metadata": {},
   "outputs": [
    {
     "name": "stdout",
     "output_type": "stream",
     "text": [
      "The Given number is: 4\n",
      "The Factorial of the given number is: 24\n"
     ]
    }
   ],
   "source": [
    "class Factorial:\n",
    "    def __init__(self,n):\n",
    "        self.n=n\n",
    "    def factorial(self):\n",
    "        factorial=1\n",
    "        for i in range(1,self.n+1):\n",
    "           \n",
    "            factorial*=i\n",
    "        return factorial\n",
    "n=eval(input(\"enter a number:\"))\n",
    "object1=Factorial(n)\n",
    "result=object1.factorial()\n",
    "print(\"The Given number is:\",n)\n",
    "print(\"The Factorial of the given number is:\",result)    "
   ]
  },
  {
   "cell_type": "code",
   "execution_count": null,
   "metadata": {},
   "outputs": [],
   "source": []
  }
 ],
 "metadata": {
  "kernelspec": {
   "display_name": "Python 3",
   "language": "python",
   "name": "python3"
  },
  "language_info": {
   "codemirror_mode": {
    "name": "ipython",
    "version": 3
   },
   "file_extension": ".py",
   "mimetype": "text/x-python",
   "name": "python",
   "nbconvert_exporter": "python",
   "pygments_lexer": "ipython3",
   "version": "3.10.7"
  }
 },
 "nbformat": 4,
 "nbformat_minor": 2
}
